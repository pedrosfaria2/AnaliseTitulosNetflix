{
 "cells": [
  {
   "cell_type": "markdown",
   "metadata": {},
   "source": [
    "# Analisando conteúdos da Netflix no IMDB"
   ]
  },
  {
   "cell_type": "markdown",
   "metadata": {},
   "source": [
    "## Introdução"
   ]
  },
  {
   "cell_type": "markdown",
   "metadata": {},
   "source": [
    "A Netflix é uma das plataformas de streaming de vídeo mais populares do mundo, com um catálogo de conteúdo que inclui filmes, séries, documentários e outros formatos. A popularidade dos conteúdos da Netflix é um fator importante para a plataforma, pois influencia a escolha dos conteúdos pelos espectadores.\n",
    "\n",
    "Este projeto irá analisar um conjunto de dados do [Kaggle](https://www.kaggle.com/), que pode ser encontrado [aqui](https://www.kaggle.com/datasets/thedevastator/netflix-imdb-scores) que contém informações sobre mais de 5.000 títulos da Netflix que nos traz as seguintes informações a respeito dos títulos:\n",
    "\n",
    "- Título\n",
    "- Tipo: MOVIE ou SHOW (MOVIE para filme e SHOW para série)\n",
    "- Descrição: uma breve descrição sobre o que é o conteúdo\n",
    "- Ano de lançamento: ano em que o conteúdo foi lançado (para o público e não na plataforma da Netflix necessariamente)\n",
    "- Classificação etária\n",
    "- Tempo de duração\n",
    "- IMBD_id: a ID do conteúdo na IMDB\n",
    "- Avaliação na IMDB\n",
    "- Número de votos na IMDB\n",
    "\n",
    "Tendo isso em vista, nós queremos estudar a popularidade desses conteúdos. As perguntas que faremos aos nossos dados são:\n",
    "\n",
    "- Como podemos avaliar a popularidade de um show baseado nessas informações que temos?\n",
    "- Quais são os conteúdos mais populares disponíveis?\n",
    "- Pensando em popularidade, MOVIE ou SHOW são mais populares?\n",
    "- Há influência do tipo de conteúdo na popularidade?\"\n",
    "\n",
    "Sendo assim, iremos trabalhar com a seguinte hipótese a ser testada:\n",
    "\n",
    "- O tipo de conteúdo influencia a popularidade, de modo que as séries são, em geral, mais populares do que os filmes.\n"
   ]
  },
  {
   "cell_type": "markdown",
   "metadata": {},
   "source": [
    "## Importando bibliotecas e abrindo arquivo"
   ]
  },
  {
   "cell_type": "markdown",
   "metadata": {},
   "source": [
    "Vamos primeiro importar as bibliotecas usadas e também abrir o arquivo:"
   ]
  },
  {
   "cell_type": "code",
   "execution_count": 28,
   "metadata": {},
   "outputs": [],
   "source": [
    "import pandas as pd\n",
    "import matplotlib.pyplot as plt\n",
    "import numpy as np\n",
    "from scipy import stats\n",
    "import graficos_e_funcoes_netfliximdb as gf"
   ]
  },
  {
   "cell_type": "code",
   "execution_count": 29,
   "metadata": {},
   "outputs": [],
   "source": [
    "netflix = gf.pd.read_csv('netflix_imdb.csv', index_col=0)"
   ]
  },
  {
   "cell_type": "markdown",
   "metadata": {},
   "source": [
    "## Explorando o conjunto de dados"
   ]
  },
  {
   "cell_type": "markdown",
   "metadata": {},
   "source": [
    "Primeiramente, vamos imprimir as primeiras linhas de nosso conjunto de dados para vermos como ele está:"
   ]
  },
  {
   "cell_type": "code",
   "execution_count": 30,
   "metadata": {},
   "outputs": [
    {
     "data": {
      "text/html": [
       "<div>\n",
       "<style scoped>\n",
       "    .dataframe tbody tr th:only-of-type {\n",
       "        vertical-align: middle;\n",
       "    }\n",
       "\n",
       "    .dataframe tbody tr th {\n",
       "        vertical-align: top;\n",
       "    }\n",
       "\n",
       "    .dataframe thead th {\n",
       "        text-align: right;\n",
       "    }\n",
       "</style>\n",
       "<table border=\"1\" class=\"dataframe\">\n",
       "  <thead>\n",
       "    <tr style=\"text-align: right;\">\n",
       "      <th></th>\n",
       "      <th>id</th>\n",
       "      <th>title</th>\n",
       "      <th>type</th>\n",
       "      <th>description</th>\n",
       "      <th>release_year</th>\n",
       "      <th>age_certification</th>\n",
       "      <th>runtime</th>\n",
       "      <th>imdb_id</th>\n",
       "      <th>imdb_score</th>\n",
       "      <th>imdb_votes</th>\n",
       "    </tr>\n",
       "    <tr>\n",
       "      <th>index</th>\n",
       "      <th></th>\n",
       "      <th></th>\n",
       "      <th></th>\n",
       "      <th></th>\n",
       "      <th></th>\n",
       "      <th></th>\n",
       "      <th></th>\n",
       "      <th></th>\n",
       "      <th></th>\n",
       "      <th></th>\n",
       "    </tr>\n",
       "  </thead>\n",
       "  <tbody>\n",
       "    <tr>\n",
       "      <th>0</th>\n",
       "      <td>tm84618</td>\n",
       "      <td>Taxi Driver</td>\n",
       "      <td>MOVIE</td>\n",
       "      <td>A mentally unstable Vietnam War veteran works ...</td>\n",
       "      <td>1976</td>\n",
       "      <td>R</td>\n",
       "      <td>113</td>\n",
       "      <td>tt0075314</td>\n",
       "      <td>8.3</td>\n",
       "      <td>795222.0</td>\n",
       "    </tr>\n",
       "    <tr>\n",
       "      <th>1</th>\n",
       "      <td>tm127384</td>\n",
       "      <td>Monty Python and the Holy Grail</td>\n",
       "      <td>MOVIE</td>\n",
       "      <td>King Arthur, accompanied by his squire, recrui...</td>\n",
       "      <td>1975</td>\n",
       "      <td>PG</td>\n",
       "      <td>91</td>\n",
       "      <td>tt0071853</td>\n",
       "      <td>8.2</td>\n",
       "      <td>530877.0</td>\n",
       "    </tr>\n",
       "    <tr>\n",
       "      <th>2</th>\n",
       "      <td>tm70993</td>\n",
       "      <td>Life of Brian</td>\n",
       "      <td>MOVIE</td>\n",
       "      <td>Brian Cohen is an average young Jewish man, bu...</td>\n",
       "      <td>1979</td>\n",
       "      <td>R</td>\n",
       "      <td>94</td>\n",
       "      <td>tt0079470</td>\n",
       "      <td>8.0</td>\n",
       "      <td>392419.0</td>\n",
       "    </tr>\n",
       "    <tr>\n",
       "      <th>3</th>\n",
       "      <td>tm190788</td>\n",
       "      <td>The Exorcist</td>\n",
       "      <td>MOVIE</td>\n",
       "      <td>12-year-old Regan MacNeil begins to adapt an e...</td>\n",
       "      <td>1973</td>\n",
       "      <td>R</td>\n",
       "      <td>133</td>\n",
       "      <td>tt0070047</td>\n",
       "      <td>8.1</td>\n",
       "      <td>391942.0</td>\n",
       "    </tr>\n",
       "    <tr>\n",
       "      <th>4</th>\n",
       "      <td>ts22164</td>\n",
       "      <td>Monty Python's Flying Circus</td>\n",
       "      <td>SHOW</td>\n",
       "      <td>A British sketch comedy series with the shows ...</td>\n",
       "      <td>1969</td>\n",
       "      <td>TV-14</td>\n",
       "      <td>30</td>\n",
       "      <td>tt0063929</td>\n",
       "      <td>8.8</td>\n",
       "      <td>72895.0</td>\n",
       "    </tr>\n",
       "  </tbody>\n",
       "</table>\n",
       "</div>"
      ],
      "text/plain": [
       "             id                            title   type  \\\n",
       "index                                                     \n",
       "0       tm84618                      Taxi Driver  MOVIE   \n",
       "1      tm127384  Monty Python and the Holy Grail  MOVIE   \n",
       "2       tm70993                    Life of Brian  MOVIE   \n",
       "3      tm190788                     The Exorcist  MOVIE   \n",
       "4       ts22164     Monty Python's Flying Circus   SHOW   \n",
       "\n",
       "                                             description  release_year  \\\n",
       "index                                                                    \n",
       "0      A mentally unstable Vietnam War veteran works ...          1976   \n",
       "1      King Arthur, accompanied by his squire, recrui...          1975   \n",
       "2      Brian Cohen is an average young Jewish man, bu...          1979   \n",
       "3      12-year-old Regan MacNeil begins to adapt an e...          1973   \n",
       "4      A British sketch comedy series with the shows ...          1969   \n",
       "\n",
       "      age_certification  runtime    imdb_id  imdb_score  imdb_votes  \n",
       "index                                                                \n",
       "0                     R      113  tt0075314         8.3    795222.0  \n",
       "1                    PG       91  tt0071853         8.2    530877.0  \n",
       "2                     R       94  tt0079470         8.0    392419.0  \n",
       "3                     R      133  tt0070047         8.1    391942.0  \n",
       "4                 TV-14       30  tt0063929         8.8     72895.0  "
      ]
     },
     "execution_count": 30,
     "metadata": {},
     "output_type": "execute_result"
    }
   ],
   "source": [
    "netflix.head(5)\n"
   ]
  },
  {
   "cell_type": "markdown",
   "metadata": {},
   "source": [
    "Vamos agora explorar uma amostra aleatória do nosso conjunto de dados:"
   ]
  },
  {
   "cell_type": "code",
   "execution_count": 31,
   "metadata": {},
   "outputs": [
    {
     "data": {
      "text/html": [
       "<div>\n",
       "<style scoped>\n",
       "    .dataframe tbody tr th:only-of-type {\n",
       "        vertical-align: middle;\n",
       "    }\n",
       "\n",
       "    .dataframe tbody tr th {\n",
       "        vertical-align: top;\n",
       "    }\n",
       "\n",
       "    .dataframe thead th {\n",
       "        text-align: right;\n",
       "    }\n",
       "</style>\n",
       "<table border=\"1\" class=\"dataframe\">\n",
       "  <thead>\n",
       "    <tr style=\"text-align: right;\">\n",
       "      <th></th>\n",
       "      <th>id</th>\n",
       "      <th>title</th>\n",
       "      <th>type</th>\n",
       "      <th>description</th>\n",
       "      <th>release_year</th>\n",
       "      <th>age_certification</th>\n",
       "      <th>runtime</th>\n",
       "      <th>imdb_id</th>\n",
       "      <th>imdb_score</th>\n",
       "      <th>imdb_votes</th>\n",
       "    </tr>\n",
       "    <tr>\n",
       "      <th>index</th>\n",
       "      <th></th>\n",
       "      <th></th>\n",
       "      <th></th>\n",
       "      <th></th>\n",
       "      <th></th>\n",
       "      <th></th>\n",
       "      <th></th>\n",
       "      <th></th>\n",
       "      <th></th>\n",
       "      <th></th>\n",
       "    </tr>\n",
       "  </thead>\n",
       "  <tbody>\n",
       "    <tr>\n",
       "      <th>506</th>\n",
       "      <td>tm165809</td>\n",
       "      <td>Bluffmaster!</td>\n",
       "      <td>MOVIE</td>\n",
       "      <td>Roy is a professional conman, who has raised h...</td>\n",
       "      <td>2005</td>\n",
       "      <td>PG</td>\n",
       "      <td>137</td>\n",
       "      <td>tt0476527</td>\n",
       "      <td>6.6</td>\n",
       "      <td>6313.0</td>\n",
       "    </tr>\n",
       "    <tr>\n",
       "      <th>47</th>\n",
       "      <td>tm155792</td>\n",
       "      <td>Teenage Mutant Ninja Turtles</td>\n",
       "      <td>MOVIE</td>\n",
       "      <td>A quartet of humanoid turtles, trained by thei...</td>\n",
       "      <td>1990</td>\n",
       "      <td>PG</td>\n",
       "      <td>93</td>\n",
       "      <td>tt0100758</td>\n",
       "      <td>6.7</td>\n",
       "      <td>92647.0</td>\n",
       "    </tr>\n",
       "    <tr>\n",
       "      <th>4339</th>\n",
       "      <td>tm976519</td>\n",
       "      <td>The App That Stole Christmas</td>\n",
       "      <td>MOVIE</td>\n",
       "      <td>A tech entrepreneur's Christmas shopping app i...</td>\n",
       "      <td>2020</td>\n",
       "      <td>PG</td>\n",
       "      <td>63</td>\n",
       "      <td>tt11378154</td>\n",
       "      <td>3.7</td>\n",
       "      <td>734.0</td>\n",
       "    </tr>\n",
       "    <tr>\n",
       "      <th>3387</th>\n",
       "      <td>ts224072</td>\n",
       "      <td>Self Made: Inspired by the Life of Madam C.J. ...</td>\n",
       "      <td>SHOW</td>\n",
       "      <td>This limited series chronicles the incredible ...</td>\n",
       "      <td>2020</td>\n",
       "      <td>TV-MA</td>\n",
       "      <td>47</td>\n",
       "      <td>tt8771910</td>\n",
       "      <td>7.3</td>\n",
       "      <td>11586.0</td>\n",
       "    </tr>\n",
       "    <tr>\n",
       "      <th>1573</th>\n",
       "      <td>ts42347</td>\n",
       "      <td>Word Party</td>\n",
       "      <td>SHOW</td>\n",
       "      <td>Meet Bailey, Franny, Kip and Lulu. They're ado...</td>\n",
       "      <td>2016</td>\n",
       "      <td>TV-Y</td>\n",
       "      <td>20</td>\n",
       "      <td>tt5235950</td>\n",
       "      <td>5.7</td>\n",
       "      <td>349.0</td>\n",
       "    </tr>\n",
       "  </tbody>\n",
       "</table>\n",
       "</div>"
      ],
      "text/plain": [
       "             id                                              title   type  \\\n",
       "index                                                                       \n",
       "506    tm165809                                       Bluffmaster!  MOVIE   \n",
       "47     tm155792                       Teenage Mutant Ninja Turtles  MOVIE   \n",
       "4339   tm976519                       The App That Stole Christmas  MOVIE   \n",
       "3387   ts224072  Self Made: Inspired by the Life of Madam C.J. ...   SHOW   \n",
       "1573    ts42347                                         Word Party   SHOW   \n",
       "\n",
       "                                             description  release_year  \\\n",
       "index                                                                    \n",
       "506    Roy is a professional conman, who has raised h...          2005   \n",
       "47     A quartet of humanoid turtles, trained by thei...          1990   \n",
       "4339   A tech entrepreneur's Christmas shopping app i...          2020   \n",
       "3387   This limited series chronicles the incredible ...          2020   \n",
       "1573   Meet Bailey, Franny, Kip and Lulu. They're ado...          2016   \n",
       "\n",
       "      age_certification  runtime     imdb_id  imdb_score  imdb_votes  \n",
       "index                                                                 \n",
       "506                  PG      137   tt0476527         6.6      6313.0  \n",
       "47                   PG       93   tt0100758         6.7     92647.0  \n",
       "4339                 PG       63  tt11378154         3.7       734.0  \n",
       "3387              TV-MA       47   tt8771910         7.3     11586.0  \n",
       "1573               TV-Y       20   tt5235950         5.7       349.0  "
      ]
     },
     "execution_count": 31,
     "metadata": {},
     "output_type": "execute_result"
    }
   ],
   "source": [
    "netflix.sample(5)"
   ]
  },
  {
   "cell_type": "markdown",
   "metadata": {},
   "source": [
    "Exploraremos agora as colunas, com seus tipos e contagens de valores não nulos, para detectarmos se temos algum problema com nossos dados em nossa análise."
   ]
  },
  {
   "cell_type": "code",
   "execution_count": 32,
   "metadata": {},
   "outputs": [
    {
     "name": "stdout",
     "output_type": "stream",
     "text": [
      "<class 'pandas.core.frame.DataFrame'>\n",
      "Index: 5283 entries, 0 to 5282\n",
      "Data columns (total 10 columns):\n",
      " #   Column             Non-Null Count  Dtype  \n",
      "---  ------             --------------  -----  \n",
      " 0   id                 5283 non-null   object \n",
      " 1   title              5283 non-null   object \n",
      " 2   type               5283 non-null   object \n",
      " 3   description        5278 non-null   object \n",
      " 4   release_year       5283 non-null   int64  \n",
      " 5   age_certification  2998 non-null   object \n",
      " 6   runtime            5283 non-null   int64  \n",
      " 7   imdb_id            5283 non-null   object \n",
      " 8   imdb_score         5283 non-null   float64\n",
      " 9   imdb_votes         5267 non-null   float64\n",
      "dtypes: float64(2), int64(2), object(6)\n",
      "memory usage: 454.0+ KB\n"
     ]
    }
   ],
   "source": [
    "netflix.info()"
   ]
  },
  {
   "cell_type": "markdown",
   "metadata": {},
   "source": [
    "Podemos notar aqui:\n",
    "\n",
    "- Por `id`, `title` e `imdb_id` notamos que temos um total de 5283 conteúdos diferentes listados.\n",
    "- Por `description` notamos que temos 5 linhas cuja descrição está vazia.\n",
    "- Por `imdb_score` notamos que todos os conteúdos têm a nota de avaliação. Tudo Ok.\n",
    "- Por `imdb_votes` notamos que temos 16 linhas que não têm registro de número de votos. Note que essas linhas todas possuem nota, mas não têm informação de quantos votos foram dados para compor essa nota. Precisaremos olhar para isso.\n",
    "- Por `release_year` notamos que todos os conteúdos possuem o ano de lançamento. Tudo Ok."
   ]
  },
  {
   "cell_type": "markdown",
   "metadata": {},
   "source": [
    "Vejamos quais são os títulos cuja descrição está sem informação:"
   ]
  },
  {
   "cell_type": "code",
   "execution_count": 33,
   "metadata": {},
   "outputs": [
    {
     "data": {
      "text/html": [
       "<div>\n",
       "<style scoped>\n",
       "    .dataframe tbody tr th:only-of-type {\n",
       "        vertical-align: middle;\n",
       "    }\n",
       "\n",
       "    .dataframe tbody tr th {\n",
       "        vertical-align: top;\n",
       "    }\n",
       "\n",
       "    .dataframe thead th {\n",
       "        text-align: right;\n",
       "    }\n",
       "</style>\n",
       "<table border=\"1\" class=\"dataframe\">\n",
       "  <thead>\n",
       "    <tr style=\"text-align: right;\">\n",
       "      <th></th>\n",
       "      <th>id</th>\n",
       "      <th>title</th>\n",
       "      <th>type</th>\n",
       "      <th>description</th>\n",
       "      <th>release_year</th>\n",
       "      <th>age_certification</th>\n",
       "      <th>runtime</th>\n",
       "      <th>imdb_id</th>\n",
       "      <th>imdb_score</th>\n",
       "      <th>imdb_votes</th>\n",
       "    </tr>\n",
       "    <tr>\n",
       "      <th>index</th>\n",
       "      <th></th>\n",
       "      <th></th>\n",
       "      <th></th>\n",
       "      <th></th>\n",
       "      <th></th>\n",
       "      <th></th>\n",
       "      <th></th>\n",
       "      <th></th>\n",
       "      <th></th>\n",
       "      <th></th>\n",
       "    </tr>\n",
       "  </thead>\n",
       "  <tbody>\n",
       "    <tr>\n",
       "      <th>1117</th>\n",
       "      <td>tm681614</td>\n",
       "      <td>Grandmother's Farm</td>\n",
       "      <td>MOVIE</td>\n",
       "      <td>NaN</td>\n",
       "      <td>2013</td>\n",
       "      <td>NaN</td>\n",
       "      <td>71</td>\n",
       "      <td>tt10033686</td>\n",
       "      <td>2.9</td>\n",
       "      <td>74.0</td>\n",
       "    </tr>\n",
       "    <tr>\n",
       "      <th>2605</th>\n",
       "      <td>ts90941</td>\n",
       "      <td>Heidi, bienvenida a casa</td>\n",
       "      <td>SHOW</td>\n",
       "      <td>NaN</td>\n",
       "      <td>2017</td>\n",
       "      <td>TV-Y</td>\n",
       "      <td>46</td>\n",
       "      <td>tt7183310</td>\n",
       "      <td>6.2</td>\n",
       "      <td>20.0</td>\n",
       "    </tr>\n",
       "    <tr>\n",
       "      <th>2752</th>\n",
       "      <td>tm407349</td>\n",
       "      <td>The Birth Reborn 2</td>\n",
       "      <td>MOVIE</td>\n",
       "      <td>NaN</td>\n",
       "      <td>2018</td>\n",
       "      <td>PG</td>\n",
       "      <td>91</td>\n",
       "      <td>tt16114198</td>\n",
       "      <td>6.6</td>\n",
       "      <td>5.0</td>\n",
       "    </tr>\n",
       "    <tr>\n",
       "      <th>4020</th>\n",
       "      <td>tm1172010</td>\n",
       "      <td>The Lockdown Plan</td>\n",
       "      <td>MOVIE</td>\n",
       "      <td>NaN</td>\n",
       "      <td>2020</td>\n",
       "      <td>NaN</td>\n",
       "      <td>49</td>\n",
       "      <td>tt13079112</td>\n",
       "      <td>6.5</td>\n",
       "      <td>NaN</td>\n",
       "    </tr>\n",
       "    <tr>\n",
       "      <th>4393</th>\n",
       "      <td>tm902993</td>\n",
       "      <td>Mama Drama</td>\n",
       "      <td>MOVIE</td>\n",
       "      <td>NaN</td>\n",
       "      <td>2020</td>\n",
       "      <td>NaN</td>\n",
       "      <td>85</td>\n",
       "      <td>tt12424356</td>\n",
       "      <td>6.3</td>\n",
       "      <td>8.0</td>\n",
       "    </tr>\n",
       "  </tbody>\n",
       "</table>\n",
       "</div>"
      ],
      "text/plain": [
       "              id                     title   type description  release_year  \\\n",
       "index                                                                         \n",
       "1117    tm681614        Grandmother's Farm  MOVIE         NaN          2013   \n",
       "2605     ts90941  Heidi, bienvenida a casa   SHOW         NaN          2017   \n",
       "2752    tm407349        The Birth Reborn 2  MOVIE         NaN          2018   \n",
       "4020   tm1172010         The Lockdown Plan  MOVIE         NaN          2020   \n",
       "4393    tm902993                Mama Drama  MOVIE         NaN          2020   \n",
       "\n",
       "      age_certification  runtime     imdb_id  imdb_score  imdb_votes  \n",
       "index                                                                 \n",
       "1117                NaN       71  tt10033686         2.9        74.0  \n",
       "2605               TV-Y       46   tt7183310         6.2        20.0  \n",
       "2752                 PG       91  tt16114198         6.6         5.0  \n",
       "4020                NaN       49  tt13079112         6.5         NaN  \n",
       "4393                NaN       85  tt12424356         6.3         8.0  "
      ]
     },
     "execution_count": 33,
     "metadata": {},
     "output_type": "execute_result"
    }
   ],
   "source": [
    "netflix.loc[netflix[\"description\"].isna()]"
   ]
  },
  {
   "cell_type": "markdown",
   "metadata": {},
   "source": [
    "Note que o título com o `imdb_id: tt13079112` tanto não possui número de votos quanto descrição.\n",
    "\n",
    "Vamos agora olhar para os conteúdos cujo número de votos está sem informação:"
   ]
  },
  {
   "cell_type": "code",
   "execution_count": 34,
   "metadata": {},
   "outputs": [
    {
     "data": {
      "text/html": [
       "<div>\n",
       "<style scoped>\n",
       "    .dataframe tbody tr th:only-of-type {\n",
       "        vertical-align: middle;\n",
       "    }\n",
       "\n",
       "    .dataframe tbody tr th {\n",
       "        vertical-align: top;\n",
       "    }\n",
       "\n",
       "    .dataframe thead th {\n",
       "        text-align: right;\n",
       "    }\n",
       "</style>\n",
       "<table border=\"1\" class=\"dataframe\">\n",
       "  <thead>\n",
       "    <tr style=\"text-align: right;\">\n",
       "      <th></th>\n",
       "      <th>id</th>\n",
       "      <th>title</th>\n",
       "      <th>type</th>\n",
       "      <th>description</th>\n",
       "      <th>release_year</th>\n",
       "      <th>age_certification</th>\n",
       "      <th>runtime</th>\n",
       "      <th>imdb_id</th>\n",
       "      <th>imdb_score</th>\n",
       "      <th>imdb_votes</th>\n",
       "    </tr>\n",
       "    <tr>\n",
       "      <th>index</th>\n",
       "      <th></th>\n",
       "      <th></th>\n",
       "      <th></th>\n",
       "      <th></th>\n",
       "      <th></th>\n",
       "      <th></th>\n",
       "      <th></th>\n",
       "      <th></th>\n",
       "      <th></th>\n",
       "      <th></th>\n",
       "    </tr>\n",
       "  </thead>\n",
       "  <tbody>\n",
       "    <tr>\n",
       "      <th>918</th>\n",
       "      <td>tm144046</td>\n",
       "      <td>Jackass Presents: Bad Grandpa .5</td>\n",
       "      <td>MOVIE</td>\n",
       "      <td>Bad Grandpa .5 gives you a whole new perspecti...</td>\n",
       "      <td>2014</td>\n",
       "      <td>PG-13</td>\n",
       "      <td>86</td>\n",
       "      <td>tt3766424</td>\n",
       "      <td>6.3</td>\n",
       "      <td>NaN</td>\n",
       "    </tr>\n",
       "    <tr>\n",
       "      <th>1111</th>\n",
       "      <td>tm163066</td>\n",
       "      <td>Xenos</td>\n",
       "      <td>MOVIE</td>\n",
       "      <td>In 2010, Abu Eyad and other young Palestinian ...</td>\n",
       "      <td>2013</td>\n",
       "      <td>NaN</td>\n",
       "      <td>12</td>\n",
       "      <td>tt3289618</td>\n",
       "      <td>7.8</td>\n",
       "      <td>NaN</td>\n",
       "    </tr>\n",
       "    <tr>\n",
       "      <th>2669</th>\n",
       "      <td>tm995893</td>\n",
       "      <td>The Crossing</td>\n",
       "      <td>MOVIE</td>\n",
       "      <td>Three Palestinian siblings eagerly attempt to ...</td>\n",
       "      <td>2017</td>\n",
       "      <td>NaN</td>\n",
       "      <td>10</td>\n",
       "      <td>tt7466040</td>\n",
       "      <td>7.5</td>\n",
       "      <td>NaN</td>\n",
       "    </tr>\n",
       "    <tr>\n",
       "      <th>3468</th>\n",
       "      <td>tm826563</td>\n",
       "      <td>A Cinderella Story: Christmas Wish</td>\n",
       "      <td>MOVIE</td>\n",
       "      <td>Kat is an aspiring singer-songwriter who dream...</td>\n",
       "      <td>2019</td>\n",
       "      <td>PG</td>\n",
       "      <td>93</td>\n",
       "      <td>tt10326928</td>\n",
       "      <td>5.3</td>\n",
       "      <td>NaN</td>\n",
       "    </tr>\n",
       "    <tr>\n",
       "      <th>3796</th>\n",
       "      <td>tm835869</td>\n",
       "      <td>Jarhead: Law of Return</td>\n",
       "      <td>MOVIE</td>\n",
       "      <td>Major Ronan Jackson, an accomplished fighter p...</td>\n",
       "      <td>2019</td>\n",
       "      <td>R</td>\n",
       "      <td>103</td>\n",
       "      <td>tt10767720</td>\n",
       "      <td>5.6</td>\n",
       "      <td>NaN</td>\n",
       "    </tr>\n",
       "    <tr>\n",
       "      <th>3946</th>\n",
       "      <td>tm931436</td>\n",
       "      <td>Welcome to Sudden Death</td>\n",
       "      <td>MOVIE</td>\n",
       "      <td>Jesse Freeman is a former special forces offic...</td>\n",
       "      <td>2020</td>\n",
       "      <td>R</td>\n",
       "      <td>80</td>\n",
       "      <td>tt10804786</td>\n",
       "      <td>4.3</td>\n",
       "      <td>NaN</td>\n",
       "    </tr>\n",
       "    <tr>\n",
       "      <th>4020</th>\n",
       "      <td>tm1172010</td>\n",
       "      <td>The Lockdown Plan</td>\n",
       "      <td>MOVIE</td>\n",
       "      <td>NaN</td>\n",
       "      <td>2020</td>\n",
       "      <td>NaN</td>\n",
       "      <td>49</td>\n",
       "      <td>tt13079112</td>\n",
       "      <td>6.5</td>\n",
       "      <td>NaN</td>\n",
       "    </tr>\n",
       "    <tr>\n",
       "      <th>4257</th>\n",
       "      <td>tm984018</td>\n",
       "      <td>Cops and Robbers</td>\n",
       "      <td>MOVIE</td>\n",
       "      <td>Animation and activism unite in this multimedi...</td>\n",
       "      <td>2020</td>\n",
       "      <td>PG-13</td>\n",
       "      <td>8</td>\n",
       "      <td>tt13322484</td>\n",
       "      <td>6.9</td>\n",
       "      <td>NaN</td>\n",
       "    </tr>\n",
       "    <tr>\n",
       "      <th>4328</th>\n",
       "      <td>tm1113921</td>\n",
       "      <td>In Vitro</td>\n",
       "      <td>MOVIE</td>\n",
       "      <td>'In Vitro' is an otherworldly rumination on me...</td>\n",
       "      <td>2019</td>\n",
       "      <td>NaN</td>\n",
       "      <td>27</td>\n",
       "      <td>tt10545994</td>\n",
       "      <td>7.7</td>\n",
       "      <td>NaN</td>\n",
       "    </tr>\n",
       "    <tr>\n",
       "      <th>4681</th>\n",
       "      <td>tm1039147</td>\n",
       "      <td>Audible</td>\n",
       "      <td>MOVIE</td>\n",
       "      <td>Football player Amaree McKenstry-Hall and his ...</td>\n",
       "      <td>2021</td>\n",
       "      <td>PG-13</td>\n",
       "      <td>39</td>\n",
       "      <td>tt12771540</td>\n",
       "      <td>5.3</td>\n",
       "      <td>NaN</td>\n",
       "    </tr>\n",
       "    <tr>\n",
       "      <th>4808</th>\n",
       "      <td>tm1096769</td>\n",
       "      <td>Lead Me Home</td>\n",
       "      <td>MOVIE</td>\n",
       "      <td>Poignant stories of homelessness on the West C...</td>\n",
       "      <td>2021</td>\n",
       "      <td>NaN</td>\n",
       "      <td>40</td>\n",
       "      <td>tt15339848</td>\n",
       "      <td>7.1</td>\n",
       "      <td>NaN</td>\n",
       "    </tr>\n",
       "    <tr>\n",
       "      <th>4837</th>\n",
       "      <td>tm1040688</td>\n",
       "      <td>Three Songs for Benazir</td>\n",
       "      <td>MOVIE</td>\n",
       "      <td>The story of Shaista, a young man whoâ€”newly ...</td>\n",
       "      <td>2021</td>\n",
       "      <td>NaN</td>\n",
       "      <td>22</td>\n",
       "      <td>tt14608922</td>\n",
       "      <td>7.7</td>\n",
       "      <td>NaN</td>\n",
       "    </tr>\n",
       "    <tr>\n",
       "      <th>4953</th>\n",
       "      <td>tm1159301</td>\n",
       "      <td>Forgive Us Our Trespasses</td>\n",
       "      <td>MOVIE</td>\n",
       "      <td>In 1939 Germany, a disabled farm boy is pursue...</td>\n",
       "      <td>2022</td>\n",
       "      <td>PG-13</td>\n",
       "      <td>13</td>\n",
       "      <td>tt17162524</td>\n",
       "      <td>6.5</td>\n",
       "      <td>NaN</td>\n",
       "    </tr>\n",
       "    <tr>\n",
       "      <th>5038</th>\n",
       "      <td>tm1119455</td>\n",
       "      <td>Camp Confidential: America's Secret Nazis</td>\n",
       "      <td>MOVIE</td>\n",
       "      <td>Camp Confidential: America's Secret Nazis, is ...</td>\n",
       "      <td>2021</td>\n",
       "      <td>PG-13</td>\n",
       "      <td>34</td>\n",
       "      <td>tt15470770</td>\n",
       "      <td>6.3</td>\n",
       "      <td>NaN</td>\n",
       "    </tr>\n",
       "    <tr>\n",
       "      <th>5102</th>\n",
       "      <td>tm1161223</td>\n",
       "      <td>Cat Burglar</td>\n",
       "      <td>MOVIE</td>\n",
       "      <td>In this edgy, over-the-top, interactive trivia...</td>\n",
       "      <td>2022</td>\n",
       "      <td>PG-13</td>\n",
       "      <td>12</td>\n",
       "      <td>tt17321170</td>\n",
       "      <td>6.9</td>\n",
       "      <td>NaN</td>\n",
       "    </tr>\n",
       "    <tr>\n",
       "      <th>5132</th>\n",
       "      <td>tm1108010</td>\n",
       "      <td>Rabbids Invasion - Mission To Mars</td>\n",
       "      <td>MOVIE</td>\n",
       "      <td>When Nebulous Industries announces they are re...</td>\n",
       "      <td>2021</td>\n",
       "      <td>NaN</td>\n",
       "      <td>68</td>\n",
       "      <td>tt15310736</td>\n",
       "      <td>7.8</td>\n",
       "      <td>NaN</td>\n",
       "    </tr>\n",
       "  </tbody>\n",
       "</table>\n",
       "</div>"
      ],
      "text/plain": [
       "              id                                      title   type  \\\n",
       "index                                                                \n",
       "918     tm144046           Jackass Presents: Bad Grandpa .5  MOVIE   \n",
       "1111    tm163066                                      Xenos  MOVIE   \n",
       "2669    tm995893                               The Crossing  MOVIE   \n",
       "3468    tm826563         A Cinderella Story: Christmas Wish  MOVIE   \n",
       "3796    tm835869                     Jarhead: Law of Return  MOVIE   \n",
       "3946    tm931436                    Welcome to Sudden Death  MOVIE   \n",
       "4020   tm1172010                          The Lockdown Plan  MOVIE   \n",
       "4257    tm984018                           Cops and Robbers  MOVIE   \n",
       "4328   tm1113921                                   In Vitro  MOVIE   \n",
       "4681   tm1039147                                    Audible  MOVIE   \n",
       "4808   tm1096769                               Lead Me Home  MOVIE   \n",
       "4837   tm1040688                    Three Songs for Benazir  MOVIE   \n",
       "4953   tm1159301                  Forgive Us Our Trespasses  MOVIE   \n",
       "5038   tm1119455  Camp Confidential: America's Secret Nazis  MOVIE   \n",
       "5102   tm1161223                                Cat Burglar  MOVIE   \n",
       "5132   tm1108010         Rabbids Invasion - Mission To Mars  MOVIE   \n",
       "\n",
       "                                             description  release_year  \\\n",
       "index                                                                    \n",
       "918    Bad Grandpa .5 gives you a whole new perspecti...          2014   \n",
       "1111   In 2010, Abu Eyad and other young Palestinian ...          2013   \n",
       "2669   Three Palestinian siblings eagerly attempt to ...          2017   \n",
       "3468   Kat is an aspiring singer-songwriter who dream...          2019   \n",
       "3796   Major Ronan Jackson, an accomplished fighter p...          2019   \n",
       "3946   Jesse Freeman is a former special forces offic...          2020   \n",
       "4020                                                 NaN          2020   \n",
       "4257   Animation and activism unite in this multimedi...          2020   \n",
       "4328   'In Vitro' is an otherworldly rumination on me...          2019   \n",
       "4681   Football player Amaree McKenstry-Hall and his ...          2021   \n",
       "4808   Poignant stories of homelessness on the West C...          2021   \n",
       "4837   The story of Shaista, a young man whoâ€”newly ...          2021   \n",
       "4953   In 1939 Germany, a disabled farm boy is pursue...          2022   \n",
       "5038   Camp Confidential: America's Secret Nazis, is ...          2021   \n",
       "5102   In this edgy, over-the-top, interactive trivia...          2022   \n",
       "5132   When Nebulous Industries announces they are re...          2021   \n",
       "\n",
       "      age_certification  runtime     imdb_id  imdb_score  imdb_votes  \n",
       "index                                                                 \n",
       "918               PG-13       86   tt3766424         6.3         NaN  \n",
       "1111                NaN       12   tt3289618         7.8         NaN  \n",
       "2669                NaN       10   tt7466040         7.5         NaN  \n",
       "3468                 PG       93  tt10326928         5.3         NaN  \n",
       "3796                  R      103  tt10767720         5.6         NaN  \n",
       "3946                  R       80  tt10804786         4.3         NaN  \n",
       "4020                NaN       49  tt13079112         6.5         NaN  \n",
       "4257              PG-13        8  tt13322484         6.9         NaN  \n",
       "4328                NaN       27  tt10545994         7.7         NaN  \n",
       "4681              PG-13       39  tt12771540         5.3         NaN  \n",
       "4808                NaN       40  tt15339848         7.1         NaN  \n",
       "4837                NaN       22  tt14608922         7.7         NaN  \n",
       "4953              PG-13       13  tt17162524         6.5         NaN  \n",
       "5038              PG-13       34  tt15470770         6.3         NaN  \n",
       "5102              PG-13       12  tt17321170         6.9         NaN  \n",
       "5132                NaN       68  tt15310736         7.8         NaN  "
      ]
     },
     "execution_count": 34,
     "metadata": {},
     "output_type": "execute_result"
    }
   ],
   "source": [
    "netflix.loc[netflix[\"imdb_votes\"].isna()]"
   ]
  },
  {
   "cell_type": "markdown",
   "metadata": {},
   "source": [
    "Podemos notar que:\n",
    "\n",
    "- São todos do tipo `MOVIE`\n",
    "- As notas variam entre `4.3` e `7.8`\n",
    "\n",
    "A seguir, iremos resolver o problema do número de votos. Para isso, usaremos a mediana de votos da categoria filmes para preencher os valores faltantes. A escolha da mediana visa evitar qualquer distorção causada por um possível outlier em nossos dados. Além disso, como observamos que são apenas filmes, nós vamos usar a mediana dessa categoria apenas, em vez de geral."
   ]
  },
  {
   "cell_type": "code",
   "execution_count": 35,
   "metadata": {},
   "outputs": [],
   "source": [
    "netflix['imdb_votes'] = netflix.groupby('type')['imdb_votes'].transform(lambda x: x.fillna(x.median()))"
   ]
  },
  {
   "cell_type": "markdown",
   "metadata": {},
   "source": [
    "Vamos verificar se está tudo certo:"
   ]
  },
  {
   "cell_type": "code",
   "execution_count": 36,
   "metadata": {},
   "outputs": [
    {
     "name": "stdout",
     "output_type": "stream",
     "text": [
      "<class 'pandas.core.frame.DataFrame'>\n",
      "Index: 5283 entries, 0 to 5282\n",
      "Data columns (total 10 columns):\n",
      " #   Column             Non-Null Count  Dtype  \n",
      "---  ------             --------------  -----  \n",
      " 0   id                 5283 non-null   object \n",
      " 1   title              5283 non-null   object \n",
      " 2   type               5283 non-null   object \n",
      " 3   description        5278 non-null   object \n",
      " 4   release_year       5283 non-null   int64  \n",
      " 5   age_certification  2998 non-null   object \n",
      " 6   runtime            5283 non-null   int64  \n",
      " 7   imdb_id            5283 non-null   object \n",
      " 8   imdb_score         5283 non-null   float64\n",
      " 9   imdb_votes         5283 non-null   float64\n",
      "dtypes: float64(2), int64(2), object(6)\n",
      "memory usage: 454.0+ KB\n"
     ]
    }
   ],
   "source": [
    "netflix.info()"
   ]
  },
  {
   "cell_type": "markdown",
   "metadata": {},
   "source": [
    "## Filtragem"
   ]
  },
  {
   "cell_type": "markdown",
   "metadata": {},
   "source": [
    "Algumas das colunas presentes em nosso conjunto de dados não serão usadas por nós, sendo elas: `id` (usaremos o `imdb_id` invés), `age_certification`, `runtime`, `release_year` e `description`. Vamos retirar elas de nosso conjunto para facilitar a manipulação e visualização:"
   ]
  },
  {
   "cell_type": "code",
   "execution_count": 37,
   "metadata": {},
   "outputs": [
    {
     "data": {
      "text/html": [
       "<div>\n",
       "<style scoped>\n",
       "    .dataframe tbody tr th:only-of-type {\n",
       "        vertical-align: middle;\n",
       "    }\n",
       "\n",
       "    .dataframe tbody tr th {\n",
       "        vertical-align: top;\n",
       "    }\n",
       "\n",
       "    .dataframe thead th {\n",
       "        text-align: right;\n",
       "    }\n",
       "</style>\n",
       "<table border=\"1\" class=\"dataframe\">\n",
       "  <thead>\n",
       "    <tr style=\"text-align: right;\">\n",
       "      <th></th>\n",
       "      <th>title</th>\n",
       "      <th>type</th>\n",
       "      <th>imdb_id</th>\n",
       "      <th>imdb_score</th>\n",
       "      <th>imdb_votes</th>\n",
       "    </tr>\n",
       "    <tr>\n",
       "      <th>index</th>\n",
       "      <th></th>\n",
       "      <th></th>\n",
       "      <th></th>\n",
       "      <th></th>\n",
       "      <th></th>\n",
       "    </tr>\n",
       "  </thead>\n",
       "  <tbody>\n",
       "    <tr>\n",
       "      <th>0</th>\n",
       "      <td>Taxi Driver</td>\n",
       "      <td>MOVIE</td>\n",
       "      <td>tt0075314</td>\n",
       "      <td>8.3</td>\n",
       "      <td>795222.0</td>\n",
       "    </tr>\n",
       "    <tr>\n",
       "      <th>1</th>\n",
       "      <td>Monty Python and the Holy Grail</td>\n",
       "      <td>MOVIE</td>\n",
       "      <td>tt0071853</td>\n",
       "      <td>8.2</td>\n",
       "      <td>530877.0</td>\n",
       "    </tr>\n",
       "    <tr>\n",
       "      <th>2</th>\n",
       "      <td>Life of Brian</td>\n",
       "      <td>MOVIE</td>\n",
       "      <td>tt0079470</td>\n",
       "      <td>8.0</td>\n",
       "      <td>392419.0</td>\n",
       "    </tr>\n",
       "    <tr>\n",
       "      <th>3</th>\n",
       "      <td>The Exorcist</td>\n",
       "      <td>MOVIE</td>\n",
       "      <td>tt0070047</td>\n",
       "      <td>8.1</td>\n",
       "      <td>391942.0</td>\n",
       "    </tr>\n",
       "    <tr>\n",
       "      <th>4</th>\n",
       "      <td>Monty Python's Flying Circus</td>\n",
       "      <td>SHOW</td>\n",
       "      <td>tt0063929</td>\n",
       "      <td>8.8</td>\n",
       "      <td>72895.0</td>\n",
       "    </tr>\n",
       "  </tbody>\n",
       "</table>\n",
       "</div>"
      ],
      "text/plain": [
       "                                 title   type    imdb_id  imdb_score  \\\n",
       "index                                                                  \n",
       "0                          Taxi Driver  MOVIE  tt0075314         8.3   \n",
       "1      Monty Python and the Holy Grail  MOVIE  tt0071853         8.2   \n",
       "2                        Life of Brian  MOVIE  tt0079470         8.0   \n",
       "3                         The Exorcist  MOVIE  tt0070047         8.1   \n",
       "4         Monty Python's Flying Circus   SHOW  tt0063929         8.8   \n",
       "\n",
       "       imdb_votes  \n",
       "index              \n",
       "0        795222.0  \n",
       "1        530877.0  \n",
       "2        392419.0  \n",
       "3        391942.0  \n",
       "4         72895.0  "
      ]
     },
     "execution_count": 37,
     "metadata": {},
     "output_type": "execute_result"
    }
   ],
   "source": [
    "netflix.drop(columns=[\"id\", \"age_certification\", \"runtime\", \"description\", \"release_year\"], inplace=True)\n",
    "netflix.head(5)"
   ]
  },
  {
   "cell_type": "markdown",
   "metadata": {},
   "source": [
    "Agora que temos apenas os dados relevantes para nossa análise, vamos partir para os passos seguintes."
   ]
  },
  {
   "cell_type": "markdown",
   "metadata": {},
   "source": [
    "## Popularidade"
   ]
  },
  {
   "cell_type": "markdown",
   "metadata": {},
   "source": [
    "### Medida de popularidade:"
   ]
  },
  {
   "cell_type": "markdown",
   "metadata": {},
   "source": [
    "Precisamos pensar em como definir a popularidade de um conteúdo com as informações que temos em nossos dados. Algumas opções iniciais e seus problemas são:\n",
    "\n",
    "- Avaliação do conteúdo: poderíamos usar a nota no IMDB como critério para avaliar se um conteúdo é popular ou não. Essa nota é dada pelos usuários e pode nos fornecer a opinião do público sobre o conteúdo. Porém, essa abordagem não é boa, pois podemos ter algum título que tenha um número muito baixo de votos, mas uma nota muito alta. Isso nos daria uma falsa impressão de popularidade, apenas porque não tivemos votos suficientes para entender como o público reagiu àquele título.\n",
    "- Número de votos: o número de votos nos mostra quantas pessoas foram até o IMDB avaliar aquele conteúdo. Pode ser um parâmetro plausível, mas ele nos dá apenas o engajamento que aquele título gerou, ou seja, quantas pessoas se interessaram em avaliá-lo. Estamos desperdiçando aqui a informação de como essas pessoas reagiram ao título específico.\n",
    "\n",
    "Veja dois histogramas para ilustrar:"
   ]
  },
  {
   "cell_type": "code",
   "execution_count": 38,
   "metadata": {},
   "outputs": [
    {
     "data": {
      "image/png": "[encoded data removed]",
      "text/plain": [
       "<Figure size 1000x500 with 1 Axes>"
      ]
     },
     "metadata": {},
     "output_type": "display_data"
    },
    {
     "data": {
      "image/png": "[encoded data removed]",
      "text/plain": [
       "<Figure size 1000x500 with 1 Axes>"
      ]
     },
     "metadata": {},
     "output_type": "display_data"
    }
   ],
   "source": [
    "gf.grafico_histograma(netflix, 'imdb_votes', 30, 100000, 'Distribuição dos Números de Votos', 'Número de Votos (em milhões)')\n",
    "gf.grafico_histograma(netflix, 'imdb_score', 30, 0.5, 'Distribuição das Avaliações', 'Avaliações')"
   ]
  },
  {
   "cell_type": "markdown",
   "metadata": {},
   "source": [
    "Diante disso, nós vamos utilizar uma ponderação que leve em conta os dois parâmetros, a Média de Bayes. A Média de Bayes é uma técnica estatística usada para calcular uma média ponderada. No contexto do conjunto de dados, você tem duas variáveis para cada título: a pontuação da IMDB e o número de votos da IMDB. Se um título tem apenas algumas avaliações, a média dessas avaliações pode não ser uma representação precisa da popularidade do título. Por exemplo, um filme com uma única avaliação de 10 seria considerado “melhor” do que um filme com 1000 avaliações com uma média de 9.5, o que pode não ser verdadeiro. Vamos resolver esse problema com uma ponderação de ambos. Veja:"
   ]
  },
  {
   "cell_type": "markdown",
   "metadata": {},
   "source": [
    "$$\n",
    "\\text{Média de Bayes} = \\frac{v}{v+m} \\cdot R + \\frac{m}{v+m} \\cdot C\n",
    "$$"
   ]
  },
  {
   "cell_type": "markdown",
   "metadata": {},
   "source": [
    "Onde:\n",
    "\n",
    "- R é a média das classificações do título;\n",
    "- v é o número de classificações do título;\n",
    "- m é o mínimo de votos necessários para o título ser listado. Usaremos aqui a média truncada para darmos um maior peso ao número de votos. Eliminaremos os números de votos 10% mais baixos e os 10% mais altos e tiraremos a média.\n",
    "- C é a média de todas as classificações."
   ]
  },
  {
   "cell_type": "markdown",
   "metadata": {},
   "source": [
    "Tal que a primeira parte da fórmula"
   ]
  },
  {
   "cell_type": "markdown",
   "metadata": {},
   "source": [
    "$$\\frac{v}{v+m} \\cdot R$$"
   ]
  },
  {
   "cell_type": "markdown",
   "metadata": {},
   "source": [
    "representa a contribuição da classificação média do título para a classificação final. Observe que essa contribuição é ponderada pelo número de votos que o título recebeu em relação ao número total de votos."
   ]
  },
  {
   "cell_type": "markdown",
   "metadata": {},
   "source": [
    "Enquanto que a segunda parte da fórmula"
   ]
  },
  {
   "cell_type": "markdown",
   "metadata": {},
   "source": [
    "$$\\frac{m}{v+m} \\cdot C$$ "
   ]
  },
  {
   "cell_type": "markdown",
   "metadata": {},
   "source": [
    "representa a contribuição da avaliação média de todos os títulos para a avaliação final. Essa contribuição é inversamente proporcional ao número de votos que o título recebeu, comparado ao número mínimo de votos exigido."
   ]
  },
  {
   "cell_type": "markdown",
   "metadata": {},
   "source": [
    "### Condições a serem satisfeitas"
   ]
  },
  {
   "cell_type": "markdown",
   "metadata": {},
   "source": [
    "Para usar este índice, precisamos verificar algumas suposições sobre os conjuntos de dados:\n",
    "\n",
    "- Dados suficientes: precisamos ter um número suficiente de avaliações para cada item. Se um item tem apenas algumas avaliações, a média delas pode não refletir a qualidade do item. O parâmetro m na fórmula da Média de Bayes ajuda a contornar isso, excluindo itens com menos de m avaliações.\n",
    "- Avaliações representativas: estamos supondo que as avaliações que temos são representativas das opiniões da população em geral. Se as avaliações forem tendenciosas de alguma forma (por exemplo, se forem todas de um grupo demográfico específico), então o Índice de Bayes pode não medir a popularidade com precisão. O conjunto de dados que estou usando é extraído diretamente do IMDB, uma plataforma aberta ao público geral. Isso significa que as avaliações são dadas por uma ampla variedade de usuários, tornando-as representativas das opiniões da população em geral. Embora possa haver algum viés, como a tendência de pessoas que assistem a muitos filmes ou têm tempo para avaliar títulos, a Média de Bayes, que estou usando para calcular a popularidade, leva em conta tanto a média das avaliações quanto o número de avaliações. Isso ajuda a garantir que as avaliações ponderadas sejam uma representação justa e precisa da popularidade dos títulos.\n",
    "- Independência: cada avaliação é independente das outras. Em outras palavras, a avaliação que uma pessoa dá a um item não afeta as avaliações que outras pessoas dão ao mesmo item.\n",
    "- Avaliações em escala: a escala de avaliações é significativa. Por exemplo, se você está usando uma escala de 1 a 10, está supondo que a diferença entre 1 e 2 é a mesma que a diferença entre 9 e 10.\n",
    "Com essas suposições verificadas, podemos prosseguir com a nossa análise."
   ]
  },
  {
   "cell_type": "markdown",
   "metadata": {},
   "source": [
    "### Aplicando a Média de Bayes"
   ]
  },
  {
   "cell_type": "markdown",
   "metadata": {},
   "source": [
    "Vamos calcular a nossa medida de popularidade para cada título e adicionar uma nova coluna com esse valor. As duas constantes, m e C, serão calculadas em seguida e respectivamente.\n",
    "\n",
    "Para começar, vamos calcular os percentis e atribuir o resultado a uma variável:\n"
   ]
  },
  {
   "cell_type": "code",
   "execution_count": 39,
   "metadata": {},
   "outputs": [
    {
     "name": "stdout",
     "output_type": "stream",
     "text": [
      "A média truncada dos votos é 6199\n"
     ]
    }
   ],
   "source": [
    "percentil = 0.1\n",
    "m = round(stats.trim_mean(netflix['imdb_votes'], percentil))\n",
    "print(f\"A média truncada dos votos é {m}\")"
   ]
  },
  {
   "cell_type": "code",
   "execution_count": 40,
   "metadata": {},
   "outputs": [
    {
     "name": "stdout",
     "output_type": "stream",
     "text": [
      "A média das classificações é:  6.5334469051675175\n"
     ]
    }
   ],
   "source": [
    "C = netflix['imdb_score'].mean()\n",
    "print(\"A média das classificações é: \", C)"
   ]
  },
  {
   "cell_type": "markdown",
   "metadata": {},
   "source": [
    "Agora vamos criar a coluna com nosso índice de popularidade:"
   ]
  },
  {
   "cell_type": "code",
   "execution_count": 41,
   "metadata": {},
   "outputs": [],
   "source": [
    "netflix['popularity'] = netflix.apply(lambda row: gf.calcula_indice_de_popularidade(row, m, C), axis=1)"
   ]
  },
  {
   "cell_type": "markdown",
   "metadata": {},
   "source": [
    "Vamos imprimir agora nosso conjunto de dados ordenado em ordem decrescente pelo nosso índice de popularidade:"
   ]
  },
  {
   "cell_type": "code",
   "execution_count": 42,
   "metadata": {},
   "outputs": [
    {
     "data": {
      "text/html": [
       "<div>\n",
       "<style scoped>\n",
       "    .dataframe tbody tr th:only-of-type {\n",
       "        vertical-align: middle;\n",
       "    }\n",
       "\n",
       "    .dataframe tbody tr th {\n",
       "        vertical-align: top;\n",
       "    }\n",
       "\n",
       "    .dataframe thead th {\n",
       "        text-align: right;\n",
       "    }\n",
       "</style>\n",
       "<table border=\"1\" class=\"dataframe\">\n",
       "  <thead>\n",
       "    <tr style=\"text-align: right;\">\n",
       "      <th></th>\n",
       "      <th>title</th>\n",
       "      <th>type</th>\n",
       "      <th>imdb_id</th>\n",
       "      <th>imdb_score</th>\n",
       "      <th>imdb_votes</th>\n",
       "      <th>popularity</th>\n",
       "    </tr>\n",
       "  </thead>\n",
       "  <tbody>\n",
       "    <tr>\n",
       "      <th>0</th>\n",
       "      <td>Breaking Bad</td>\n",
       "      <td>SHOW</td>\n",
       "      <td>tt0903747</td>\n",
       "      <td>9.5</td>\n",
       "      <td>1727694.0</td>\n",
       "      <td>9.489394</td>\n",
       "    </tr>\n",
       "    <tr>\n",
       "      <th>1</th>\n",
       "      <td>Avatar: The Last Airbender</td>\n",
       "      <td>SHOW</td>\n",
       "      <td>tt0417299</td>\n",
       "      <td>9.3</td>\n",
       "      <td>297336.0</td>\n",
       "      <td>9.243500</td>\n",
       "    </tr>\n",
       "    <tr>\n",
       "      <th>2</th>\n",
       "      <td>Kota Factory</td>\n",
       "      <td>SHOW</td>\n",
       "      <td>tt9432978</td>\n",
       "      <td>9.3</td>\n",
       "      <td>66985.0</td>\n",
       "      <td>9.065661</td>\n",
       "    </tr>\n",
       "    <tr>\n",
       "      <th>3</th>\n",
       "      <td>Arcane</td>\n",
       "      <td>SHOW</td>\n",
       "      <td>tt11126994</td>\n",
       "      <td>9.1</td>\n",
       "      <td>175412.0</td>\n",
       "      <td>9.012395</td>\n",
       "    </tr>\n",
       "    <tr>\n",
       "      <th>4</th>\n",
       "      <td>The Last Dance</td>\n",
       "      <td>SHOW</td>\n",
       "      <td>tt8420184</td>\n",
       "      <td>9.1</td>\n",
       "      <td>108321.0</td>\n",
       "      <td>8.961072</td>\n",
       "    </tr>\n",
       "    <tr>\n",
       "      <th>...</th>\n",
       "      <td>...</td>\n",
       "      <td>...</td>\n",
       "      <td>...</td>\n",
       "      <td>...</td>\n",
       "      <td>...</td>\n",
       "      <td>...</td>\n",
       "    </tr>\n",
       "    <tr>\n",
       "      <th>5278</th>\n",
       "      <td>The Open House</td>\n",
       "      <td>MOVIE</td>\n",
       "      <td>tt7608028</td>\n",
       "      <td>3.2</td>\n",
       "      <td>33769.0</td>\n",
       "      <td>3.717015</td>\n",
       "    </tr>\n",
       "    <tr>\n",
       "      <th>5279</th>\n",
       "      <td>365 Days</td>\n",
       "      <td>MOVIE</td>\n",
       "      <td>tt10886166</td>\n",
       "      <td>3.3</td>\n",
       "      <td>80198.0</td>\n",
       "      <td>3.532000</td>\n",
       "    </tr>\n",
       "    <tr>\n",
       "      <th>5280</th>\n",
       "      <td>Jack and Jill</td>\n",
       "      <td>MOVIE</td>\n",
       "      <td>tt0810913</td>\n",
       "      <td>3.3</td>\n",
       "      <td>83727.0</td>\n",
       "      <td>3.522896</td>\n",
       "    </tr>\n",
       "    <tr>\n",
       "      <th>5281</th>\n",
       "      <td>Nothing to Lose</td>\n",
       "      <td>MOVIE</td>\n",
       "      <td>tt6910020</td>\n",
       "      <td>2.3</td>\n",
       "      <td>23016.0</td>\n",
       "      <td>3.198276</td>\n",
       "    </tr>\n",
       "    <tr>\n",
       "      <th>5282</th>\n",
       "      <td>Racket Boys</td>\n",
       "      <td>SHOW</td>\n",
       "      <td>tt14482414</td>\n",
       "      <td>1.8</td>\n",
       "      <td>27484.0</td>\n",
       "      <td>2.671141</td>\n",
       "    </tr>\n",
       "  </tbody>\n",
       "</table>\n",
       "<p>5283 rows × 6 columns</p>\n",
       "</div>"
      ],
      "text/plain": [
       "                           title   type     imdb_id  imdb_score  imdb_votes  \\\n",
       "0                   Breaking Bad   SHOW   tt0903747         9.5   1727694.0   \n",
       "1     Avatar: The Last Airbender   SHOW   tt0417299         9.3    297336.0   \n",
       "2                   Kota Factory   SHOW   tt9432978         9.3     66985.0   \n",
       "3                         Arcane   SHOW  tt11126994         9.1    175412.0   \n",
       "4                 The Last Dance   SHOW   tt8420184         9.1    108321.0   \n",
       "...                          ...    ...         ...         ...         ...   \n",
       "5278              The Open House  MOVIE   tt7608028         3.2     33769.0   \n",
       "5279                    365 Days  MOVIE  tt10886166         3.3     80198.0   \n",
       "5280               Jack and Jill  MOVIE   tt0810913         3.3     83727.0   \n",
       "5281             Nothing to Lose  MOVIE   tt6910020         2.3     23016.0   \n",
       "5282                 Racket Boys   SHOW  tt14482414         1.8     27484.0   \n",
       "\n",
       "      popularity  \n",
       "0       9.489394  \n",
       "1       9.243500  \n",
       "2       9.065661  \n",
       "3       9.012395  \n",
       "4       8.961072  \n",
       "...          ...  \n",
       "5278    3.717015  \n",
       "5279    3.532000  \n",
       "5280    3.522896  \n",
       "5281    3.198276  \n",
       "5282    2.671141  \n",
       "\n",
       "[5283 rows x 6 columns]"
      ]
     },
     "execution_count": 42,
     "metadata": {},
     "output_type": "execute_result"
    }
   ],
   "source": [
    "netflix = netflix.sort_values('popularity', ascending=False)\n",
    "netflix = netflix.reset_index(drop=True)\n",
    "netflix"
   ]
  },
  {
   "cell_type": "markdown",
   "metadata": {},
   "source": [
    "Vejamos agora uma amostra aleatória:"
   ]
  },
  {
   "cell_type": "code",
   "execution_count": 43,
   "metadata": {},
   "outputs": [
    {
     "data": {
      "text/html": [
       "<div>\n",
       "<style scoped>\n",
       "    .dataframe tbody tr th:only-of-type {\n",
       "        vertical-align: middle;\n",
       "    }\n",
       "\n",
       "    .dataframe tbody tr th {\n",
       "        vertical-align: top;\n",
       "    }\n",
       "\n",
       "    .dataframe thead th {\n",
       "        text-align: right;\n",
       "    }\n",
       "</style>\n",
       "<table border=\"1\" class=\"dataframe\">\n",
       "  <thead>\n",
       "    <tr style=\"text-align: right;\">\n",
       "      <th></th>\n",
       "      <th>title</th>\n",
       "      <th>type</th>\n",
       "      <th>imdb_id</th>\n",
       "      <th>imdb_score</th>\n",
       "      <th>imdb_votes</th>\n",
       "      <th>popularity</th>\n",
       "    </tr>\n",
       "  </thead>\n",
       "  <tbody>\n",
       "    <tr>\n",
       "      <th>4014</th>\n",
       "      <td>The 3rd Eye 2</td>\n",
       "      <td>MOVIE</td>\n",
       "      <td>tt8890582</td>\n",
       "      <td>5.3</td>\n",
       "      <td>586.0</td>\n",
       "      <td>6.426918</td>\n",
       "    </tr>\n",
       "    <tr>\n",
       "      <th>3825</th>\n",
       "      <td>Pandemic: How to Prevent an Outbreak</td>\n",
       "      <td>SHOW</td>\n",
       "      <td>tt11497904</td>\n",
       "      <td>6.3</td>\n",
       "      <td>2759.0</td>\n",
       "      <td>6.461547</td>\n",
       "    </tr>\n",
       "    <tr>\n",
       "      <th>4834</th>\n",
       "      <td>Richie Rich</td>\n",
       "      <td>SHOW</td>\n",
       "      <td>tt4162898</td>\n",
       "      <td>3.1</td>\n",
       "      <td>1041.0</td>\n",
       "      <td>6.039770</td>\n",
       "    </tr>\n",
       "    <tr>\n",
       "      <th>3007</th>\n",
       "      <td>Super Monsters Save Halloween</td>\n",
       "      <td>MOVIE</td>\n",
       "      <td>tt9085726</td>\n",
       "      <td>5.4</td>\n",
       "      <td>27.0</td>\n",
       "      <td>6.528532</td>\n",
       "    </tr>\n",
       "    <tr>\n",
       "      <th>3422</th>\n",
       "      <td>Definition Please</td>\n",
       "      <td>MOVIE</td>\n",
       "      <td>tt10395748</td>\n",
       "      <td>5.5</td>\n",
       "      <td>157.0</td>\n",
       "      <td>6.507920</td>\n",
       "    </tr>\n",
       "    <tr>\n",
       "      <th>3270</th>\n",
       "      <td>Tramps</td>\n",
       "      <td>MOVIE</td>\n",
       "      <td>tt9049178</td>\n",
       "      <td>6.5</td>\n",
       "      <td>5460.0</td>\n",
       "      <td>6.517783</td>\n",
       "    </tr>\n",
       "    <tr>\n",
       "      <th>5072</th>\n",
       "      <td>A-X-L</td>\n",
       "      <td>MOVIE</td>\n",
       "      <td>tt5709188</td>\n",
       "      <td>5.3</td>\n",
       "      <td>11785.0</td>\n",
       "      <td>5.725163</td>\n",
       "    </tr>\n",
       "    <tr>\n",
       "      <th>1883</th>\n",
       "      <td>Jim Norton: Mouthful of Shame</td>\n",
       "      <td>MOVIE</td>\n",
       "      <td>tt6664120</td>\n",
       "      <td>7.0</td>\n",
       "      <td>1324.0</td>\n",
       "      <td>6.615557</td>\n",
       "    </tr>\n",
       "    <tr>\n",
       "      <th>1319</th>\n",
       "      <td>Fate: The Winx Saga</td>\n",
       "      <td>SHOW</td>\n",
       "      <td>tt8179402</td>\n",
       "      <td>6.8</td>\n",
       "      <td>37995.0</td>\n",
       "      <td>6.762611</td>\n",
       "    </tr>\n",
       "    <tr>\n",
       "      <th>3819</th>\n",
       "      <td>Radium Girls</td>\n",
       "      <td>MOVIE</td>\n",
       "      <td>tt6317180</td>\n",
       "      <td>6.2</td>\n",
       "      <td>1659.0</td>\n",
       "      <td>6.463049</td>\n",
       "    </tr>\n",
       "  </tbody>\n",
       "</table>\n",
       "</div>"
      ],
      "text/plain": [
       "                                     title   type     imdb_id  imdb_score  \\\n",
       "4014                         The 3rd Eye 2  MOVIE   tt8890582         5.3   \n",
       "3825  Pandemic: How to Prevent an Outbreak   SHOW  tt11497904         6.3   \n",
       "4834                           Richie Rich   SHOW   tt4162898         3.1   \n",
       "3007         Super Monsters Save Halloween  MOVIE   tt9085726         5.4   \n",
       "3422                     Definition Please  MOVIE  tt10395748         5.5   \n",
       "3270                                Tramps  MOVIE   tt9049178         6.5   \n",
       "5072                                 A-X-L  MOVIE   tt5709188         5.3   \n",
       "1883         Jim Norton: Mouthful of Shame  MOVIE   tt6664120         7.0   \n",
       "1319                   Fate: The Winx Saga   SHOW   tt8179402         6.8   \n",
       "3819                          Radium Girls  MOVIE   tt6317180         6.2   \n",
       "\n",
       "      imdb_votes  popularity  \n",
       "4014       586.0    6.426918  \n",
       "3825      2759.0    6.461547  \n",
       "4834      1041.0    6.039770  \n",
       "3007        27.0    6.528532  \n",
       "3422       157.0    6.507920  \n",
       "3270      5460.0    6.517783  \n",
       "5072     11785.0    5.725163  \n",
       "1883      1324.0    6.615557  \n",
       "1319     37995.0    6.762611  \n",
       "3819      1659.0    6.463049  "
      ]
     },
     "execution_count": 43,
     "metadata": {},
     "output_type": "execute_result"
    }
   ],
   "source": [
    "netflix.sample(10)"
   ]
  },
  {
   "cell_type": "markdown",
   "metadata": {},
   "source": [
    "### Explorando a popularidade"
   ]
  },
  {
   "cell_type": "markdown",
   "metadata": {},
   "source": [
    "Vejamos agora um histograma com a distribuição da popularidade nos títulos analisados:"
   ]
  },
  {
   "cell_type": "code",
   "execution_count": 44,
   "metadata": {},
   "outputs": [
    {
     "data": {
      "image/png": "[encoded data removed]",
      "text/plain": [
       "<Figure size 1000x500 with 1 Axes>"
      ]
     },
     "metadata": {},
     "output_type": "display_data"
    }
   ],
   "source": [
    "gf.grafico_histograma(netflix, 'popularity', 100, (netflix['popularity'].mean())/12, 'Distribuição da Popularidade', 'Índice de Popularidade')"
   ]
  },
  {
   "cell_type": "markdown",
   "metadata": {},
   "source": [
    "Podemos observar que a popularidade está muito concentrada entre 6 e 7, reduzindo drasticamente a quantidade de títulos com notas fora desse intervalo.\n",
    "\n",
    "Em seguida, vamos verificar como o nosso índice de popularidade se compara com a avaliação no IMDB:"
   ]
  },
  {
   "cell_type": "code",
   "execution_count": 45,
   "metadata": {},
   "outputs": [
    {
     "data": {
      "image/png": "[encoded data removed]",
      "text/plain": [
       "<Figure size 1000x500 with 1 Axes>"
      ]
     },
     "metadata": {},
     "output_type": "display_data"
    }
   ],
   "source": [
    "gf.cria_grafico_dispersao(netflix, 0.5, 'imdb_score', 'popularity', 'Dispersão entre Avaliação no IMDb e Popularidade', 'Avaliação no IMDb', 'Popularidade')"
   ]
  },
  {
   "cell_type": "markdown",
   "metadata": {},
   "source": [
    "Nessa dispersão entre Popularidade x Avaliação no IMDb, podemos observar alguns pontos interessantes:\n",
    "\n",
    "- Há alguns títulos com avaliação muito alta no IMDB, mas com popularidade relativamente baixa. Isso ocorre porque a contagem de votos tem um peso maior na nossa medida de popularidade.\n",
    "- Há também alguns títulos com avaliação muito baixa no IMDB, mas com popularidade alta relativamente alta. Isso também se explica pelo peso da contagem de votos na nossa medida de popularidade. Percebemos aqui que o nosso ponderamento corrige a distorção causada pela avaliação isolada, dando mais importância ao número de avaliações na hora de calcular a popularidade.\n",
    "\n",
    "Em seguida, vamos fazer uma dispersão entre número de votos e popularidade para verificar novamente:"
   ]
  },
  {
   "cell_type": "code",
   "execution_count": 46,
   "metadata": {},
   "outputs": [
    {
     "data": {
      "image/png": "[encoded data removed]",
      "text/plain": [
       "<Figure size 1000x500 with 1 Axes>"
      ]
     },
     "metadata": {},
     "output_type": "display_data"
    }
   ],
   "source": [
    "gf.cria_grafico_dispersao(netflix, 100000, 'imdb_votes', 'popularity', 'Dispersão entre Popularidade e Número de Votos', 'Número de Votos (em milhões)', 'Popularidade')"
   ]
  },
  {
   "cell_type": "markdown",
   "metadata": {},
   "source": [
    "Nesse gráfico, podemos confirmar o que dissemos anteriormente: a popularidade cresce bastante à medida que o número de votos no IMDb aumenta. Observe que títulos com mais de 100 mil votos têm quase todos popularidade superior a 5. Além disso, nenhum título com mais de 500 mil votos tem popularidade inferior a 7."
   ]
  },
  {
   "cell_type": "markdown",
   "metadata": {},
   "source": [
    "### Títulos mais populares"
   ]
  },
  {
   "cell_type": "markdown",
   "metadata": {},
   "source": [
    "Agora vamos verificar quais são os títulos mais populares e menos populares da Netflix no IMDb? Pensando em nosso ponderamento, temos que os 10 títulos mais populares são:"
   ]
  },
  {
   "cell_type": "code",
   "execution_count": 47,
   "metadata": {},
   "outputs": [
    {
     "data": {
      "text/html": [
       "<div>\n",
       "<style scoped>\n",
       "    .dataframe tbody tr th:only-of-type {\n",
       "        vertical-align: middle;\n",
       "    }\n",
       "\n",
       "    .dataframe tbody tr th {\n",
       "        vertical-align: top;\n",
       "    }\n",
       "\n",
       "    .dataframe thead th {\n",
       "        text-align: right;\n",
       "    }\n",
       "</style>\n",
       "<table border=\"1\" class=\"dataframe\">\n",
       "  <thead>\n",
       "    <tr style=\"text-align: right;\">\n",
       "      <th></th>\n",
       "      <th>title</th>\n",
       "      <th>type</th>\n",
       "      <th>imdb_id</th>\n",
       "      <th>imdb_score</th>\n",
       "      <th>imdb_votes</th>\n",
       "      <th>popularity</th>\n",
       "    </tr>\n",
       "  </thead>\n",
       "  <tbody>\n",
       "    <tr>\n",
       "      <th>0</th>\n",
       "      <td>Breaking Bad</td>\n",
       "      <td>SHOW</td>\n",
       "      <td>tt0903747</td>\n",
       "      <td>9.5</td>\n",
       "      <td>1727694.0</td>\n",
       "      <td>9.489394</td>\n",
       "    </tr>\n",
       "    <tr>\n",
       "      <th>1</th>\n",
       "      <td>Avatar: The Last Airbender</td>\n",
       "      <td>SHOW</td>\n",
       "      <td>tt0417299</td>\n",
       "      <td>9.3</td>\n",
       "      <td>297336.0</td>\n",
       "      <td>9.243500</td>\n",
       "    </tr>\n",
       "    <tr>\n",
       "      <th>2</th>\n",
       "      <td>Kota Factory</td>\n",
       "      <td>SHOW</td>\n",
       "      <td>tt9432978</td>\n",
       "      <td>9.3</td>\n",
       "      <td>66985.0</td>\n",
       "      <td>9.065661</td>\n",
       "    </tr>\n",
       "    <tr>\n",
       "      <th>3</th>\n",
       "      <td>Arcane</td>\n",
       "      <td>SHOW</td>\n",
       "      <td>tt11126994</td>\n",
       "      <td>9.1</td>\n",
       "      <td>175412.0</td>\n",
       "      <td>9.012395</td>\n",
       "    </tr>\n",
       "    <tr>\n",
       "      <th>4</th>\n",
       "      <td>The Last Dance</td>\n",
       "      <td>SHOW</td>\n",
       "      <td>tt8420184</td>\n",
       "      <td>9.1</td>\n",
       "      <td>108321.0</td>\n",
       "      <td>8.961072</td>\n",
       "    </tr>\n",
       "    <tr>\n",
       "      <th>5</th>\n",
       "      <td>Attack on Titan</td>\n",
       "      <td>SHOW</td>\n",
       "      <td>tt2560140</td>\n",
       "      <td>9.0</td>\n",
       "      <td>325381.0</td>\n",
       "      <td>8.953887</td>\n",
       "    </tr>\n",
       "    <tr>\n",
       "      <th>6</th>\n",
       "      <td>DEATH NOTE</td>\n",
       "      <td>SHOW</td>\n",
       "      <td>tt0877057</td>\n",
       "      <td>9.0</td>\n",
       "      <td>302147.0</td>\n",
       "      <td>8.950412</td>\n",
       "    </tr>\n",
       "    <tr>\n",
       "      <th>7</th>\n",
       "      <td>Our Planet</td>\n",
       "      <td>SHOW</td>\n",
       "      <td>tt9253866</td>\n",
       "      <td>9.3</td>\n",
       "      <td>41386.0</td>\n",
       "      <td>8.939595</td>\n",
       "    </tr>\n",
       "    <tr>\n",
       "      <th>8</th>\n",
       "      <td>Seinfeld</td>\n",
       "      <td>SHOW</td>\n",
       "      <td>tt0098904</td>\n",
       "      <td>8.9</td>\n",
       "      <td>302700.0</td>\n",
       "      <td>8.852508</td>\n",
       "    </tr>\n",
       "    <tr>\n",
       "      <th>9</th>\n",
       "      <td>Hunter x Hunter</td>\n",
       "      <td>SHOW</td>\n",
       "      <td>tt2098220</td>\n",
       "      <td>9.0</td>\n",
       "      <td>87857.0</td>\n",
       "      <td>8.837436</td>\n",
       "    </tr>\n",
       "  </tbody>\n",
       "</table>\n",
       "</div>"
      ],
      "text/plain": [
       "                        title  type     imdb_id  imdb_score  imdb_votes  \\\n",
       "0                Breaking Bad  SHOW   tt0903747         9.5   1727694.0   \n",
       "1  Avatar: The Last Airbender  SHOW   tt0417299         9.3    297336.0   \n",
       "2                Kota Factory  SHOW   tt9432978         9.3     66985.0   \n",
       "3                      Arcane  SHOW  tt11126994         9.1    175412.0   \n",
       "4              The Last Dance  SHOW   tt8420184         9.1    108321.0   \n",
       "5             Attack on Titan  SHOW   tt2560140         9.0    325381.0   \n",
       "6                  DEATH NOTE  SHOW   tt0877057         9.0    302147.0   \n",
       "7                  Our Planet  SHOW   tt9253866         9.3     41386.0   \n",
       "8                    Seinfeld  SHOW   tt0098904         8.9    302700.0   \n",
       "9             Hunter x Hunter  SHOW   tt2098220         9.0     87857.0   \n",
       "\n",
       "   popularity  \n",
       "0    9.489394  \n",
       "1    9.243500  \n",
       "2    9.065661  \n",
       "3    9.012395  \n",
       "4    8.961072  \n",
       "5    8.953887  \n",
       "6    8.950412  \n",
       "7    8.939595  \n",
       "8    8.852508  \n",
       "9    8.837436  "
      ]
     },
     "execution_count": 47,
     "metadata": {},
     "output_type": "execute_result"
    }
   ],
   "source": [
    "netflix.head(10)"
   ]
  },
  {
   "cell_type": "markdown",
   "metadata": {},
   "source": [
    "Observamos dois aspectos:\n",
    "\n",
    "- Todos são do tipo SHOW;\n",
    "- O ponderamento é evidente, pois a maioria deles tem um número expressivo de votos. Isso mostra que a comunidade se envolve muito em avaliar os títulos que julgam de alta qualidade.\n",
    "\n",
    "A seguir, vamos analisar os 10 títulos menos populares:"
   ]
  },
  {
   "cell_type": "code",
   "execution_count": 48,
   "metadata": {},
   "outputs": [
    {
     "data": {
      "text/html": [
       "<div>\n",
       "<style scoped>\n",
       "    .dataframe tbody tr th:only-of-type {\n",
       "        vertical-align: middle;\n",
       "    }\n",
       "\n",
       "    .dataframe tbody tr th {\n",
       "        vertical-align: top;\n",
       "    }\n",
       "\n",
       "    .dataframe thead th {\n",
       "        text-align: right;\n",
       "    }\n",
       "</style>\n",
       "<table border=\"1\" class=\"dataframe\">\n",
       "  <thead>\n",
       "    <tr style=\"text-align: right;\">\n",
       "      <th></th>\n",
       "      <th>title</th>\n",
       "      <th>type</th>\n",
       "      <th>imdb_id</th>\n",
       "      <th>imdb_score</th>\n",
       "      <th>imdb_votes</th>\n",
       "      <th>popularity</th>\n",
       "    </tr>\n",
       "  </thead>\n",
       "  <tbody>\n",
       "    <tr>\n",
       "      <th>5273</th>\n",
       "      <td>365 Days: This Day</td>\n",
       "      <td>MOVIE</td>\n",
       "      <td>tt12996154</td>\n",
       "      <td>2.5</td>\n",
       "      <td>10739.0</td>\n",
       "      <td>3.976168</td>\n",
       "    </tr>\n",
       "    <tr>\n",
       "      <th>5274</th>\n",
       "      <td>Cuties</td>\n",
       "      <td>MOVIE</td>\n",
       "      <td>tt9196192</td>\n",
       "      <td>3.3</td>\n",
       "      <td>30030.0</td>\n",
       "      <td>3.853262</td>\n",
       "    </tr>\n",
       "    <tr>\n",
       "      <th>5275</th>\n",
       "      <td>Cosmic Sin</td>\n",
       "      <td>MOVIE</td>\n",
       "      <td>tt11762434</td>\n",
       "      <td>2.5</td>\n",
       "      <td>12284.0</td>\n",
       "      <td>3.852775</td>\n",
       "    </tr>\n",
       "    <tr>\n",
       "      <th>5276</th>\n",
       "      <td>Scary Movie 5</td>\n",
       "      <td>MOVIE</td>\n",
       "      <td>tt0795461</td>\n",
       "      <td>3.5</td>\n",
       "      <td>70814.0</td>\n",
       "      <td>3.744171</td>\n",
       "    </tr>\n",
       "    <tr>\n",
       "      <th>5277</th>\n",
       "      <td>Himmatwala</td>\n",
       "      <td>MOVIE</td>\n",
       "      <td>tt2802286</td>\n",
       "      <td>1.7</td>\n",
       "      <td>8550.0</td>\n",
       "      <td>3.731496</td>\n",
       "    </tr>\n",
       "    <tr>\n",
       "      <th>5278</th>\n",
       "      <td>The Open House</td>\n",
       "      <td>MOVIE</td>\n",
       "      <td>tt7608028</td>\n",
       "      <td>3.2</td>\n",
       "      <td>33769.0</td>\n",
       "      <td>3.717015</td>\n",
       "    </tr>\n",
       "    <tr>\n",
       "      <th>5279</th>\n",
       "      <td>365 Days</td>\n",
       "      <td>MOVIE</td>\n",
       "      <td>tt10886166</td>\n",
       "      <td>3.3</td>\n",
       "      <td>80198.0</td>\n",
       "      <td>3.532000</td>\n",
       "    </tr>\n",
       "    <tr>\n",
       "      <th>5280</th>\n",
       "      <td>Jack and Jill</td>\n",
       "      <td>MOVIE</td>\n",
       "      <td>tt0810913</td>\n",
       "      <td>3.3</td>\n",
       "      <td>83727.0</td>\n",
       "      <td>3.522896</td>\n",
       "    </tr>\n",
       "    <tr>\n",
       "      <th>5281</th>\n",
       "      <td>Nothing to Lose</td>\n",
       "      <td>MOVIE</td>\n",
       "      <td>tt6910020</td>\n",
       "      <td>2.3</td>\n",
       "      <td>23016.0</td>\n",
       "      <td>3.198276</td>\n",
       "    </tr>\n",
       "    <tr>\n",
       "      <th>5282</th>\n",
       "      <td>Racket Boys</td>\n",
       "      <td>SHOW</td>\n",
       "      <td>tt14482414</td>\n",
       "      <td>1.8</td>\n",
       "      <td>27484.0</td>\n",
       "      <td>2.671141</td>\n",
       "    </tr>\n",
       "  </tbody>\n",
       "</table>\n",
       "</div>"
      ],
      "text/plain": [
       "                   title   type     imdb_id  imdb_score  imdb_votes  \\\n",
       "5273  365 Days: This Day  MOVIE  tt12996154         2.5     10739.0   \n",
       "5274              Cuties  MOVIE   tt9196192         3.3     30030.0   \n",
       "5275          Cosmic Sin  MOVIE  tt11762434         2.5     12284.0   \n",
       "5276       Scary Movie 5  MOVIE   tt0795461         3.5     70814.0   \n",
       "5277          Himmatwala  MOVIE   tt2802286         1.7      8550.0   \n",
       "5278      The Open House  MOVIE   tt7608028         3.2     33769.0   \n",
       "5279            365 Days  MOVIE  tt10886166         3.3     80198.0   \n",
       "5280       Jack and Jill  MOVIE   tt0810913         3.3     83727.0   \n",
       "5281     Nothing to Lose  MOVIE   tt6910020         2.3     23016.0   \n",
       "5282         Racket Boys   SHOW  tt14482414         1.8     27484.0   \n",
       "\n",
       "      popularity  \n",
       "5273    3.976168  \n",
       "5274    3.853262  \n",
       "5275    3.852775  \n",
       "5276    3.744171  \n",
       "5277    3.731496  \n",
       "5278    3.717015  \n",
       "5279    3.532000  \n",
       "5280    3.522896  \n",
       "5281    3.198276  \n",
       "5282    2.671141  "
      ]
     },
     "execution_count": 48,
     "metadata": {},
     "output_type": "execute_result"
    }
   ],
   "source": [
    "netflix.tail(10)"
   ]
  },
  {
   "cell_type": "markdown",
   "metadata": {},
   "source": [
    "Observamos dois aspectos: \n",
    "\n",
    "- Todos são do tipo MOVIE;\n",
    "- A popularidade é influenciada pelo número de votos, pois a maioria deles tem um número significativo de votos (acima da média truncada, por exemplo), embora menor do que os 10 mais populares). Isso indica que a comunidade também se interessa em avaliar os títulos que consideram de baixa qualidade."
   ]
  },
  {
   "cell_type": "markdown",
   "metadata": {},
   "source": [
    "### Títulos: SHOW vs. MOVIE"
   ]
  },
  {
   "cell_type": "markdown",
   "metadata": {},
   "source": [
    "Primeiramente, vamos separar os nossos títulos em dois dataframes, um para séries e outro para filmes, e fazer uma representação gráfica para ver a proporção de cada tipo no total."
   ]
  },
  {
   "cell_type": "code",
   "execution_count": 49,
   "metadata": {},
   "outputs": [
    {
     "data": {
      "image/png": "[encoded data removed]",
      "text/plain": [
       "<Figure size 600x600 with 1 Axes>"
      ]
     },
     "metadata": {},
     "output_type": "display_data"
    }
   ],
   "source": [
    "netflix_movies = netflix[netflix['type'] == 'MOVIE']\n",
    "netflix_shows = netflix[netflix['type'] == 'SHOW']\n",
    "type_counts = netflix['type'].value_counts()\n",
    "type_counts.plot(kind='pie', figsize=(6, 6), autopct='%1.1f%%')\n",
    "plt.title('Quantidade de Tipos: Movie vs Show')\n",
    "plt.ylabel('')\n",
    "plt.show()"
   ]
  },
  {
   "cell_type": "markdown",
   "metadata": {},
   "source": [
    "Vejamos como estão nossos dados tipos `MOVIE`:"
   ]
  },
  {
   "cell_type": "code",
   "execution_count": 50,
   "metadata": {},
   "outputs": [
    {
     "data": {
      "text/html": [
       "<div>\n",
       "<style scoped>\n",
       "    .dataframe tbody tr th:only-of-type {\n",
       "        vertical-align: middle;\n",
       "    }\n",
       "\n",
       "    .dataframe tbody tr th {\n",
       "        vertical-align: top;\n",
       "    }\n",
       "\n",
       "    .dataframe thead th {\n",
       "        text-align: right;\n",
       "    }\n",
       "</style>\n",
       "<table border=\"1\" class=\"dataframe\">\n",
       "  <thead>\n",
       "    <tr style=\"text-align: right;\">\n",
       "      <th></th>\n",
       "      <th>imdb_score</th>\n",
       "      <th>imdb_votes</th>\n",
       "      <th>popularity</th>\n",
       "    </tr>\n",
       "  </thead>\n",
       "  <tbody>\n",
       "    <tr>\n",
       "      <th>count</th>\n",
       "      <td>3407.000000</td>\n",
       "      <td>3.407000e+03</td>\n",
       "      <td>3407.000000</td>\n",
       "    </tr>\n",
       "    <tr>\n",
       "      <th>mean</th>\n",
       "      <td>6.266980</td>\n",
       "      <td>2.657027e+04</td>\n",
       "      <td>6.505901</td>\n",
       "    </tr>\n",
       "    <tr>\n",
       "      <th>std</th>\n",
       "      <td>1.117282</td>\n",
       "      <td>9.450162e+04</td>\n",
       "      <td>0.514486</td>\n",
       "    </tr>\n",
       "    <tr>\n",
       "      <th>min</th>\n",
       "      <td>1.500000</td>\n",
       "      <td>5.000000e+00</td>\n",
       "      <td>3.198276</td>\n",
       "    </tr>\n",
       "    <tr>\n",
       "      <th>25%</th>\n",
       "      <td>5.600000</td>\n",
       "      <td>5.840000e+02</td>\n",
       "      <td>6.341186</td>\n",
       "    </tr>\n",
       "    <tr>\n",
       "      <th>50%</th>\n",
       "      <td>6.400000</td>\n",
       "      <td>2.632000e+03</td>\n",
       "      <td>6.523014</td>\n",
       "    </tr>\n",
       "    <tr>\n",
       "      <th>75%</th>\n",
       "      <td>7.100000</td>\n",
       "      <td>1.210950e+04</td>\n",
       "      <td>6.653724</td>\n",
       "    </tr>\n",
       "    <tr>\n",
       "      <th>max</th>\n",
       "      <td>9.000000</td>\n",
       "      <td>2.268288e+06</td>\n",
       "      <td>8.793823</td>\n",
       "    </tr>\n",
       "  </tbody>\n",
       "</table>\n",
       "</div>"
      ],
      "text/plain": [
       "        imdb_score    imdb_votes   popularity\n",
       "count  3407.000000  3.407000e+03  3407.000000\n",
       "mean      6.266980  2.657027e+04     6.505901\n",
       "std       1.117282  9.450162e+04     0.514486\n",
       "min       1.500000  5.000000e+00     3.198276\n",
       "25%       5.600000  5.840000e+02     6.341186\n",
       "50%       6.400000  2.632000e+03     6.523014\n",
       "75%       7.100000  1.210950e+04     6.653724\n",
       "max       9.000000  2.268288e+06     8.793823"
      ]
     },
     "execution_count": 50,
     "metadata": {},
     "output_type": "execute_result"
    }
   ],
   "source": [
    "netflix_movies.describe()"
   ]
  },
  {
   "cell_type": "markdown",
   "metadata": {},
   "source": [
    "Vejamos como estão nossos dados tipo `SHOW`:"
   ]
  },
  {
   "cell_type": "code",
   "execution_count": 51,
   "metadata": {},
   "outputs": [
    {
     "data": {
      "text/html": [
       "<div>\n",
       "<style scoped>\n",
       "    .dataframe tbody tr th:only-of-type {\n",
       "        vertical-align: middle;\n",
       "    }\n",
       "\n",
       "    .dataframe tbody tr th {\n",
       "        vertical-align: top;\n",
       "    }\n",
       "\n",
       "    .dataframe thead th {\n",
       "        text-align: right;\n",
       "    }\n",
       "</style>\n",
       "<table border=\"1\" class=\"dataframe\">\n",
       "  <thead>\n",
       "    <tr style=\"text-align: right;\">\n",
       "      <th></th>\n",
       "      <th>imdb_score</th>\n",
       "      <th>imdb_votes</th>\n",
       "      <th>popularity</th>\n",
       "    </tr>\n",
       "  </thead>\n",
       "  <tbody>\n",
       "    <tr>\n",
       "      <th>count</th>\n",
       "      <td>1876.000000</td>\n",
       "      <td>1.876000e+03</td>\n",
       "      <td>1876.000000</td>\n",
       "    </tr>\n",
       "    <tr>\n",
       "      <th>mean</th>\n",
       "      <td>7.017377</td>\n",
       "      <td>1.748556e+04</td>\n",
       "      <td>6.812293</td>\n",
       "    </tr>\n",
       "    <tr>\n",
       "      <th>std</th>\n",
       "      <td>1.079717</td>\n",
       "      <td>7.107211e+04</td>\n",
       "      <td>0.548772</td>\n",
       "    </tr>\n",
       "    <tr>\n",
       "      <th>min</th>\n",
       "      <td>1.600000</td>\n",
       "      <td>5.000000e+00</td>\n",
       "      <td>2.671141</td>\n",
       "    </tr>\n",
       "    <tr>\n",
       "      <th>25%</th>\n",
       "      <td>6.400000</td>\n",
       "      <td>4.445000e+02</td>\n",
       "      <td>6.530520</td>\n",
       "    </tr>\n",
       "    <tr>\n",
       "      <th>50%</th>\n",
       "      <td>7.200000</td>\n",
       "      <td>1.782000e+03</td>\n",
       "      <td>6.612969</td>\n",
       "    </tr>\n",
       "    <tr>\n",
       "      <th>75%</th>\n",
       "      <td>7.800000</td>\n",
       "      <td>7.216750e+03</td>\n",
       "      <td>6.970692</td>\n",
       "    </tr>\n",
       "    <tr>\n",
       "      <th>max</th>\n",
       "      <td>9.600000</td>\n",
       "      <td>1.727694e+06</td>\n",
       "      <td>9.489394</td>\n",
       "    </tr>\n",
       "  </tbody>\n",
       "</table>\n",
       "</div>"
      ],
      "text/plain": [
       "        imdb_score    imdb_votes   popularity\n",
       "count  1876.000000  1.876000e+03  1876.000000\n",
       "mean      7.017377  1.748556e+04     6.812293\n",
       "std       1.079717  7.107211e+04     0.548772\n",
       "min       1.600000  5.000000e+00     2.671141\n",
       "25%       6.400000  4.445000e+02     6.530520\n",
       "50%       7.200000  1.782000e+03     6.612969\n",
       "75%       7.800000  7.216750e+03     6.970692\n",
       "max       9.600000  1.727694e+06     9.489394"
      ]
     },
     "execution_count": 51,
     "metadata": {},
     "output_type": "execute_result"
    }
   ],
   "source": [
    "netflix_shows.describe()"
   ]
  },
  {
   "cell_type": "markdown",
   "metadata": {},
   "source": [
    "Aqui, temos a impressão de que as séries são mais populares entre os usuários, de acordo com o nosso índice, mesmo tendo um número bem menor de representantes."
   ]
  },
  {
   "cell_type": "markdown",
   "metadata": {},
   "source": [
    "### Popularidade: SHOW vs. MOVIE"
   ]
  },
  {
   "cell_type": "markdown",
   "metadata": {},
   "source": [
    "Antes de mais nada, vamos usar o teste de Shapiro-Wilk para verificar a normalidade dos dados. O teste retorna dois valores: a estatística de teste (W) e o valor-p.\n",
    "\n",
    "- A estatística de teste (W) é um número entre 0 e 1. Um valor de W próximo de 1 indica que os dados seguem uma distribuição normal, enquanto um valor de W bem menor que 1 indica que os dados não são normalmente distribuídos.\n",
    "- O valor-p é usado para decidir se devemos rejeitar ou não a hipótese nula. A hipótese nula para o teste de Shapiro-Wilk é que os dados são normalmente distribuídos. Se o valor-p for menor que o nível de significância (0,05), rejeitamos a hipótese nula e concluímos que os dados não são normalmente distribuídos."
   ]
  },
  {
   "cell_type": "code",
   "execution_count": 52,
   "metadata": {},
   "outputs": [
    {
     "name": "stdout",
     "output_type": "stream",
     "text": [
      "Movies: Statistics=0.8971103429794312, p=4.988622532996349e-43\n",
      "Shows: Statistics=0.8213093876838684, p=1.643022449420848e-41\n"
     ]
    }
   ],
   "source": [
    "# Teste de Shapiro-Wilk\n",
    "stat, p = stats.shapiro(netflix_movies['popularity'])\n",
    "print(f'Movies: Statistics={stat}, p={p}')\n",
    "stat, p = stats.shapiro(netflix_shows['popularity'])\n",
    "print(f'Shows: Statistics={stat}, p={p}')"
   ]
  },
  {
   "cell_type": "markdown",
   "metadata": {},
   "source": [
    "Os dois conjuntos de dados tiveram estatísticas de teste (W) menores que 1 e valores-p muito baixos, indicando que os dados não seguem uma distribuição normal. Portanto, não vamos aplicar métodos estatísticos que pressupõem a normalidade dos dados.\n",
    "\n",
    "Veja a distribuição em histograma:"
   ]
  },
  {
   "cell_type": "code",
   "execution_count": 53,
   "metadata": {},
   "outputs": [
    {
     "data": {
      "image/png": "[encoded data removed]",
      "text/plain": [
       "<Figure size 1000x500 with 1 Axes>"
      ]
     },
     "metadata": {},
     "output_type": "display_data"
    },
    {
     "data": {
      "image/png": "[encoded data removed]",
      "text/plain": [
       "<Figure size 1000x500 with 1 Axes>"
      ]
     },
     "metadata": {},
     "output_type": "display_data"
    }
   ],
   "source": [
    "gf.grafico_histograma(netflix_movies, 'popularity', 100, (netflix_movies['popularity'].mean())/12, 'Distribuição da Popularidade dos Filmes', 'Índice de Popularidade')\n",
    "gf.grafico_histograma(netflix_shows, 'popularity', 100, (netflix_shows['popularity'].mean())/12, 'Distribuição da Popularidade dos Shows', 'Índice de Popularidade')"
   ]
  },
  {
   "cell_type": "markdown",
   "metadata": {},
   "source": [
    "Como os dados não seguem uma distribuição normal, vamos aplicar outras duas técnicas:\n",
    "\n",
    "- Teste de Mann-Whitney U: para verificar se as medianas dos dois grupos são diferentes;\n",
    "- Mediana e Intervalo Interquartil: calcula a mediana e o IQR de cada grupo. O IQR é a diferença entre o Q3 e o Q1 e indica a variação dos dados."
   ]
  },
  {
   "cell_type": "code",
   "execution_count": 54,
   "metadata": {},
   "outputs": [
    {
     "name": "stdout",
     "output_type": "stream",
     "text": [
      "U-statistic: 2024322.0\n",
      "P-value: 4.762856478098458e-108\n",
      "Movies: Mediana=6.523013925895122, IQR=0.3125379351559676\n",
      "Shows: Mediana=6.612969091674372, IQR=0.44017223675903594\n"
     ]
    }
   ],
   "source": [
    "# Teste de Mann-Whitney U\n",
    "u_stat, p_val = stats.mannwhitneyu(netflix_movies['popularity'], netflix_shows['popularity'])\n",
    "print(f'U-statistic: {u_stat}')\n",
    "print(f'P-value: {p_val}')\n",
    "\n",
    "# Cálculo da mediana e do IQR para filmes e shows\n",
    "median_movies = netflix_movies['popularity'].median()\n",
    "iqr_movies = netflix_movies['popularity'].quantile(0.75) - netflix_movies['popularity'].quantile(0.25)\n",
    "median_shows = netflix_shows['popularity'].median()\n",
    "iqr_shows = netflix_shows['popularity'].quantile(0.75) - netflix_shows['popularity'].quantile(0.25)\n",
    "print(f'Movies: Mediana={median_movies}, IQR={iqr_movies}')\n",
    "print(f'Shows: Mediana={median_shows}, IQR={iqr_shows}')"
   ]
  },
  {
   "cell_type": "markdown",
   "metadata": {},
   "source": [
    "Observamos que:\n",
    "\n",
    "- Os resultados do teste de Mann-Whitney U, que incluem uma estatística U de 2024322.0 e um valor-p praticamente zero, fornecem evidências fortes de que as distribuições de popularidade para filmes e shows são diferentes. O valor muito baixo do valor-p nos permite rejeitar a hipótese nula de que as distribuições são iguais, indicando que há uma diferença estatisticamente significativa entre as popularidades dos filmes e dos shows.\n",
    "- A mediana da popularidade para filmes foi de cerca de 6.52, enquanto para shows foi de cerca de 6.61. Isso indica que, em média, os shows tendem a ser mais populares do que os filmes na plataforma.\n",
    "- Ao considerar a variação dos dados, medida pelo Intervalo Interquartil (IQR), notamos que os shows apresentam uma maior variabilidade na popularidade (IQR cerca de 0.44) em comparação com os filmes (IQR cerca de 0.31). Isso sugere que, embora os shows possam ser mais populares em média, a popularidade individual dos shows varia mais amplamente.\n",
    "\n",
    "Em outras palavras, embora os shows possam ser mais populares em geral, há uma maior variação na popularidade entre diferentes shows. Isso pode ser interpretado como um sinal de que existem alguns shows que são muito populares, mas também muitos shows que são menos populares. Em contraste, a popularidade dos filmes parece ser mais consistente, com uma variação menor entre diferentes filmes.\n",
    "\n",
    "Portanto, embora os shows pareçam ser a opção mais popular entre os usuários em geral, os filmes também têm um público fiel na plataforma."
   ]
  },
  {
   "cell_type": "markdown",
   "metadata": {},
   "source": [
    "## Conclusão:"
   ]
  },
  {
   "cell_type": "markdown",
   "metadata": {},
   "source": [
    "Neste projeto, estudamos a popularidade dos conteúdos da Netlifx disponíveis na plataforma IMDb, com o objetivo de compreender como ela é influenciada por fatores como avaliação, número de votos e tipo de conteúdo.\n",
    "\n",
    "O índice de popularidade foi calculado usando a Média de Bayes, uma medida que combina a avaliação média com o número de votos. Essa medida foi escolhida e formulada de modo que desse mais peso ao número de votos, o que considera o engajamento que o título gerou na plataforma. O teste de Mann-Whitney U foi usado para comparar a popularidade entre filmes e séries. A mediana e o intervalo interquartil foram usados para descrever a distribuição da popularidade dentro de cada tipo de conteúdo.\n",
    "\n",
    "Ao responder nossas perguntas, tivemos as seguintes conclusões:\n",
    "\n",
    "- Como podemos avaliar a popularidade de um conteúdo baseado nessas informações que temos? Ao observarmos as avaliações médias e a quantidade de votos, podemos elaborar um ponderamento para que possamos usar ambos em nossa análise. Isso foi feito para evitar distorções e também para dar mais atenção ao engajamento que os conteúdos geraram.\n",
    "\n",
    "- Quais são os conteúdos mais populares disponíveis? Os conteúdos mais populares disponíveis são, em geral, aqueles com maior avaliação média e maior número de votos.\n",
    "\n",
    "- Pensando em popularidade, filmes ou séries são mais populares? As séries tendem a ser mais populares do que os filmes.\n",
    "\n",
    "- Há influência do tipo de conteúdo na popularidade? Sim, há uma diferença estatisticamente significativa entre a popularidade dos filmes e das séries. As séries tendem a ser mais populares e mais variáveis do que os filmes. Isso pode indicar que os usuários preferem assistir e avaliar séries, mas também que há uma maior diversidade de recepção entre elas.\n",
    "\n",
    "Portanto, podemos criar um índice de popularidade influenciado por fatores como avaliação e número de votos. Os conteúdos mais populares são, em geral, aqueles com maior avaliação média e maior número de votos porém com mais peso na quantidade de votos. As séries tendem a ser mais populares do que os filmes, e também têm uma maior variabilidade na popularidade."
   ]
  }
 ],
 "metadata": {
  "kernelspec": {
   "display_name": "Python 3",
   "language": "python",
   "name": "python3"
  },
  "language_info": {
   "codemirror_mode": {
    "name": "ipython",
    "version": 3
   },
   "file_extension": ".py",
   "mimetype": "text/x-python",
   "name": "python",
   "nbconvert_exporter": "python",
   "pygments_lexer": "ipython3",
   "version": "3.11.5"
  }
 },
 "nbformat": 4,
 "nbformat_minor": 2
}
